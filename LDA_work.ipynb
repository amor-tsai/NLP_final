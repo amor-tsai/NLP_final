{
 "cells": [
  {
   "cell_type": "code",
   "execution_count": 2,
   "metadata": {},
   "outputs": [
    {
     "name": "stdout",
     "output_type": "stream",
     "text": [
      "LdaModel(num_terms=1047, num_topics=6, decay=0.5, chunksize=100)\n",
      "[(0,\n",
      "  '0.012*\"oil\" + 0.012*\"say\" + 0.010*\"new\" + 0.010*\"price\" + 0.010*\"market\" + '\n",
      "  '0.007*\"bring\" + 0.007*\"russian\" + 0.007*\"propose\" + 0.007*\"space\" + '\n",
      "  '0.007*\"sale\"'),\n",
      " (1,\n",
      "  '0.011*\"customer\" + 0.009*\"mail\" + 0.009*\"election\" + 0.007*\"quarter\" + '\n",
      "  '0.007*\"share\" + 0.006*\"new\" + 0.006*\"company\" + 0.006*\"today\" + 0.006*\"get\" '\n",
      "  '+ 0.006*\"take\"'),\n",
      " (2,\n",
      "  '0.009*\"company\" + 0.009*\"new\" + 0.009*\"good\" + 0.007*\"say\" + 0.007*\"blue\" + '\n",
      "  '0.007*\"week\" + 0.007*\"business\" + 0.007*\"fall\" + 0.007*\"go\" + 0.007*\"disc\"'),\n",
      " (3,\n",
      "  '0.016*\"project\" + 0.010*\"economy\" + 0.010*\"service\" + 0.010*\"say\" + '\n",
      "  '0.007*\"japanese\" + 0.007*\"month\" + 0.007*\"download\" + 0.007*\"retail\" + '\n",
      "  '0.007*\"company\" + 0.007*\"autodesk\"'),\n",
      " (4,\n",
      "  '0.014*\"new\" + 0.014*\"lynn\" + 0.012*\"square\" + 0.009*\"grant\" + '\n",
      "  '0.009*\"record\" + 0.007*\"car\" + 0.007*\"service\" + 0.007*\"growth\" + '\n",
      "  '0.007*\"give\" + 0.007*\"state\"'),\n",
      " (5,\n",
      "  '0.013*\"stock\" + 0.011*\"company\" + 0.010*\"oil\" + 0.008*\"market\" + '\n",
      "  '0.007*\"economy\" + 0.007*\"price\" + 0.007*\"low\" + 0.007*\"year\" + '\n",
      "  '0.007*\"search\" + 0.006*\"say\"')]\n"
     ]
    }
   ],
   "source": [
    "# 04/09/ 2.06PM\n",
    "from gensim.models.ldamodel import LdaModel\n",
    "from pprint import pprint\n",
    "lda_topic_model = LdaModel.load('first_topic_model')\n",
    "print(lda_topic_model)\n",
    "pprint(lda_topic_model.print_topics())"
   ]
  },
  {
   "cell_type": "code",
   "execution_count": 3,
   "metadata": {},
   "outputs": [
    {
     "name": "stdout",
     "output_type": "stream",
     "text": [
      "[(0,\n",
      "  '0.015*\"project\" + 0.009*\"see\" + 0.009*\"say\" + 0.007*\"autodesk\" + '\n",
      "  '0.007*\"report\" + 0.007*\"service\" + 0.005*\"oil\" + 0.005*\"construction\" + '\n",
      "  '0.005*\"target\" + 0.005*\"accord\"'),\n",
      " (1,\n",
      "  '0.019*\"oil\" + 0.013*\"market\" + 0.011*\"company\" + 0.010*\"say\" + '\n",
      "  '0.010*\"price\" + 0.010*\"stock\" + 0.008*\"fall\" + 0.008*\"economy\" + '\n",
      "  '0.006*\"new\" + 0.006*\"day\"'),\n",
      " (2,\n",
      "  '0.021*\"new\" + 0.011*\"company\" + 0.009*\"year\" + 0.007*\"say\" + 0.007*\"group\" '\n",
      "  '+ 0.007*\"dell\" + 0.007*\"show\" + 0.007*\"fall\" + 0.007*\"mail\" + '\n",
      "  '0.005*\"price\"'),\n",
      " (3,\n",
      "  '0.012*\"lynn\" + 0.010*\"good\" + 0.010*\"square\" + 0.008*\"make\" + 0.008*\"year\" '\n",
      "  '+ 0.008*\"low\" + 0.008*\"new\" + 0.008*\"grant\" + 0.006*\"day\" + 0.006*\"news\"'),\n",
      " (4,\n",
      "  '0.010*\"sale\" + 0.008*\"company\" + 0.008*\"customer\" + 0.008*\"software\" + '\n",
      "  '0.008*\"today\" + 0.008*\"even\" + 0.005*\"go\" + 0.005*\"say\" + 0.005*\"show\" + '\n",
      "  '0.005*\"want\"'),\n",
      " (5,\n",
      "  '0.007*\"say\" + 0.007*\"alligator\" + 0.007*\"phone\" + 0.007*\"blue\" + '\n",
      "  '0.007*\"russian\" + 0.007*\"space\" + 0.007*\"japanese\" + 0.007*\"get\" + '\n",
      "  '0.007*\"grow\" + 0.007*\"customer\"')]\n"
     ]
    }
   ],
   "source": [
    "# 04/09/ 2.08PM\n",
    "from pprint import pprint\n",
    "lda_topic_model = LdaModel.load('first_topic_model_2')\n",
    "pprint(lda_topic_model.print_topics())"
   ]
  },
  {
   "cell_type": "code",
   "execution_count": 9,
   "metadata": {},
   "outputs": [],
   "source": [
    "import pickle\n",
    "with open('corpus.pkl', 'rb') as f:\n",
    "    BoW_corpus_1 = pickle.load(f)\n",
    "with open('corpus_2.pkl', 'rb') as f:\n",
    "    BoW_corpus_2 = pickle.load(f)    "
   ]
  },
  {
   "cell_type": "code",
   "execution_count": 28,
   "metadata": {},
   "outputs": [],
   "source": [
    "from gensim import corpora\n",
    "lda_topic_model_1 = LdaModel.load('first_topic_model')\n",
    "lda_topic_model_2 = LdaModel.load('first_topic_model_2')\n",
    "\n"
   ]
  },
  {
   "cell_type": "code",
   "execution_count": 29,
   "metadata": {},
   "outputs": [
    {
     "name": "stdout",
     "output_type": "stream",
     "text": [
      "\n",
      "Perplexity1:  -7.151164316012295\n",
      "\n",
      "Perplexity2:  -7.138301739679999\n"
     ]
    }
   ],
   "source": [
    "print('\\nPerplexity1: ', lda_topic_model_1.log_perplexity(BoW_corpus_1))\n",
    "print('\\nPerplexity2: ', lda_topic_model_2.log_perplexity(BoW_corpus_2))"
   ]
  },
  {
   "cell_type": "code",
   "execution_count": 39,
   "metadata": {},
   "outputs": [
    {
     "name": "stdout",
     "output_type": "stream",
     "text": [
      "[[0.72257896 0.66864121 0.71865033 1.         0.70131706 0.73397685]\n",
      " [0.63304473 0.71399035 0.68308276 0.83490582 0.74209205 0.76593049]\n",
      " [0.7901155  0.6267878  0.63683163 0.8663773  0.89995541 0.58544019]\n",
      " [0.71266867 0.66936438 0.81367319 0.61821756 0.87177103 0.84682891]\n",
      " [0.94956359 0.91457545 0.77481477 0.57135728 0.75263556 0.72264189]\n",
      " [0.69839391 0.78952006 0.79103098 0.66969549 0.67389582 0.65396926]]\n"
     ]
    }
   ],
   "source": [
    "from gensim.models.ldamulticore import LdaMulticore\n",
    "from gensim.test.utils import datapath\n",
    "\n",
    "# argument for diff fuction\n",
    "# distance ({'kullback_leibler', 'hellinger', 'jaccard', 'jensen_shannon'}) – The distance metric to calculate the difference with.\n",
    "#diff(other, distance='kullback_leibler', num_words=100, n_ann_terms=10, diagonal=False, annotation=True, normed=True)\n",
    "\n",
    "m1 = LdaMulticore.load(\"first_topic_model\")\n",
    "m2 = LdaMulticore.load(\"first_topic_model_2\")\n",
    "mdiff, annotation = m1.diff(m2, distance='kullback_leibler')\n",
    "topic_diff = mdiff  # get matrix with difference for each topic pair from `m1` and `m2`\n",
    "print(topic_diff)"
   ]
  },
  {
   "cell_type": "code",
   "execution_count": 46,
   "metadata": {},
   "outputs": [
    {
     "name": "stdout",
     "output_type": "stream",
     "text": [
      "[[0.7486983  0.70599048 0.74540155 1.         0.73252411 0.79562226]\n",
      " [0.67678874 0.78560521 0.74822229 0.89043306 0.81376835 0.85400075]\n",
      " [0.83833988 0.68423781 0.68300975 0.90880633 0.97578183 0.63306285]\n",
      " [0.74784541 0.70991234 0.8247254  0.67011483 0.93303448 0.89824669]\n",
      " [0.94005517 0.94658414 0.78864315 0.612523   0.76688069 0.75993174]\n",
      " [0.74701863 0.87928843 0.87091585 0.71765998 0.73760868 0.7243553 ]]\n",
      "[[0.00030982 0.00030982 0.00030981 ... 0.00030981 0.00030981 0.00030981]\n",
      " [0.00273125 0.00039021 0.00039021 ... 0.00039021 0.00039021 0.00039021]\n",
      " [0.00033312 0.00033313 0.00033312 ... 0.00033312 0.00033312 0.00033312]\n",
      " [0.00024332 0.00024332 0.00024332 ... 0.00024332 0.00024332 0.00024332]\n",
      " [0.00492563 0.00947252 0.00492563 ... 0.00037891 0.00037891 0.00037891]\n",
      " [0.00043561 0.00043561 0.0004356  ... 0.00304898 0.00304898 0.00304898]]\n"
     ]
    }
   ],
   "source": [
    "mdiff2, annotation2 = m1.diff(m2, distance='jensen_shannon')\n",
    "topic_diff2 = mdiff2  # get matrix with difference for each topic pair from `m1` and `m2`\n",
    "print(topic_diff2) # 6x6\n",
    "#print(annotation2)\n",
    "print(lda_topic_model_2.get_topics()) # topic-words, 6 x 1047 \n"
   ]
  },
  {
   "cell_type": "code",
   "execution_count": null,
   "metadata": {},
   "outputs": [],
   "source": [
    "lda_model = LdaModel.load('model')\n",
    "dict = corpora.Dictionary.load('model.id2word')"
   ]
  },
  {
   "cell_type": "code",
   "execution_count": 11,
   "metadata": {},
   "outputs": [],
   "source": [
    "lda_dict1 = corpora.Dictionary.load('first_topic_model.id2word')\n",
    "lda_dict2 = corpora.Dictionary.load('first_topic_model_2.id2word')"
   ]
  },
  {
   "cell_type": "code",
   "execution_count": 27,
   "metadata": {},
   "outputs": [
    {
     "name": "stdout",
     "output_type": "stream",
     "text": [
      "-7.189275342503036\n"
     ]
    }
   ],
   "source": [
    "from gensim.models.coherencemodel import CoherenceModel\n",
    "topics = [['new', 'lynn','square','last','grant', 'disc']\n",
    "         #,['new', 'customer','mail','last','grant', 'disc']\n",
    "         ]\n",
    "\n",
    "cm = CoherenceModel(topics=topics, \n",
    "                    #model=lda_topic_model_1, \n",
    "                    corpus=BoW_corpus_1, dictionary=lda_dict1, coherence='u_mass')\n",
    "coherence = cm.get_coherence()  # get coherence value\n",
    "print(coherence)"
   ]
  }
 ],
 "metadata": {
  "kernelspec": {
   "display_name": "tf_gpu_nlp",
   "language": "python",
   "name": "tf_gpu_nlp"
  },
  "language_info": {
   "codemirror_mode": {
    "name": "ipython",
    "version": 3
   },
   "file_extension": ".py",
   "mimetype": "text/x-python",
   "name": "python",
   "nbconvert_exporter": "python",
   "pygments_lexer": "ipython3",
   "version": "3.6.7"
  }
 },
 "nbformat": 4,
 "nbformat_minor": 4
}
